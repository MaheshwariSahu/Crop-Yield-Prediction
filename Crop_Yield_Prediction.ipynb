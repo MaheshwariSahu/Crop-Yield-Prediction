{
 "cells": [
  {
   "cell_type": "code",
   "execution_count": null,
   "id": "f47f46a3",
   "metadata": {},
   "outputs": [],
   "source": [
    "import pandas as pd\n",
    "import numpy as np\n",
    "import seaborn as sns\n",
    "import matplotlib.pyplot as plt\n",
    "plt.style.use(\"ggplot\") "
   ]
  },
  {
   "cell_type": "code",
   "execution_count": null,
   "id": "eb461dde",
   "metadata": {},
   "outputs": [],
   "source": [
    "df = pd.read_csv(\"yield_df.csv\")"
   ]
  },
  {
   "cell_type": "code",
   "execution_count": null,
   "id": "1c7df1f2",
   "metadata": {},
   "outputs": [],
   "source": [
    "df.head()"
   ]
  },
  {
   "cell_type": "markdown",
   "id": "5ec5bc1d",
   "metadata": {},
   "source": [
    "## Data Preprocessing"
   ]
  },
  {
   "cell_type": "code",
   "execution_count": null,
   "id": "364a10af",
   "metadata": {},
   "outputs": [],
   "source": [
    "df.drop('Unnamed: 0',axis = 1, inplace = True)"
   ]
  },
  {
   "cell_type": "code",
   "execution_count": null,
   "id": "ab65907c",
   "metadata": {},
   "outputs": [],
   "source": [
    "df.head()"
   ]
  },
  {
   "cell_type": "code",
   "execution_count": null,
   "id": "80d6f3be",
   "metadata": {},
   "outputs": [],
   "source": [
    "df.tail()"
   ]
  },
  {
   "cell_type": "code",
   "execution_count": null,
   "id": "93d9effc",
   "metadata": {},
   "outputs": [],
   "source": [
    "df.info()"
   ]
  },
  {
   "cell_type": "code",
   "execution_count": null,
   "id": "ab111908",
   "metadata": {},
   "outputs": [],
   "source": [
    "df.isnull().sum()"
   ]
  },
  {
   "cell_type": "code",
   "execution_count": null,
   "id": "f65180b4",
   "metadata": {},
   "outputs": [],
   "source": [
    "df.duplicated().sum()"
   ]
  },
  {
   "cell_type": "code",
   "execution_count": null,
   "id": "231b7983",
   "metadata": {},
   "outputs": [],
   "source": [
    "df.drop_duplicates(inplace=True)"
   ]
  },
  {
   "cell_type": "code",
   "execution_count": null,
   "id": "7d86f7d6",
   "metadata": {},
   "outputs": [],
   "source": [
    "df.duplicated().sum()"
   ]
  },
  {
   "cell_type": "code",
   "execution_count": null,
   "id": "a76b82ea",
   "metadata": {},
   "outputs": [],
   "source": [
    "df.shape"
   ]
  },
  {
   "cell_type": "code",
   "execution_count": null,
   "id": "3ec5c71d",
   "metadata": {},
   "outputs": [],
   "source": [
    "df.describe()"
   ]
  },
  {
   "cell_type": "code",
   "execution_count": null,
   "id": "79c99fdb",
   "metadata": {},
   "outputs": [],
   "source": [
    "df.corr(numeric_only=True)\n"
   ]
  },
  {
   "cell_type": "markdown",
   "id": "668dba31",
   "metadata": {},
   "source": [
    "## Data Visualization"
   ]
  },
  {
   "cell_type": "code",
   "execution_count": null,
   "id": "6c0f68d1",
   "metadata": {},
   "outputs": [],
   "source": [
    "len(df['Area'].unique())"
   ]
  },
  {
   "cell_type": "code",
   "execution_count": null,
   "id": "393ff04c",
   "metadata": {},
   "outputs": [],
   "source": [
    "len(df['Item'].unique())"
   ]
  },
  {
   "cell_type": "code",
   "execution_count": null,
   "id": "1ff44c7d",
   "metadata": {},
   "outputs": [],
   "source": [
    "plt.figure(figsize=(15,20))\n",
    "sns.countplot(y = df[\"Area\"])\n",
    "plt.show()"
   ]
  },
  {
   "cell_type": "code",
   "execution_count": null,
   "id": "15e06ed4",
   "metadata": {},
   "outputs": [],
   "source": [
    "plt.figure(figsize=(15,5))\n",
    "sns.countplot(y = df[\"Item\"])\n",
    "plt.show()"
   ]
  },
  {
   "cell_type": "code",
   "execution_count": null,
   "id": "cfb9f8ef",
   "metadata": {},
   "outputs": [],
   "source": [
    "(df['Area'].value_counts() < 400).sum()"
   ]
  },
  {
   "cell_type": "code",
   "execution_count": null,
   "id": "1bf098a8",
   "metadata": {},
   "outputs": [],
   "source": [
    "country = df['Area'].unique()\n",
    "yield_per_country = []\n",
    "for state in country:\n",
    "    yield_per_country.append(df[df['Area']==state]['hg/ha_yield'].sum())"
   ]
  },
  {
   "cell_type": "code",
   "execution_count": null,
   "id": "6654c2d9",
   "metadata": {},
   "outputs": [],
   "source": [
    "df['hg/ha_yield'].sum()"
   ]
  },
  {
   "cell_type": "code",
   "execution_count": null,
   "id": "c1b9b4f3",
   "metadata": {},
   "outputs": [],
   "source": [
    "yield_per_country"
   ]
  },
  {
   "cell_type": "code",
   "execution_count": null,
   "id": "756deb4c",
   "metadata": {},
   "outputs": [],
   "source": [
    "plt.figure(figsize = (15,20))\n",
    "sns.barplot(y = country, x= yield_per_country )\n",
    "plt.show()"
   ]
  },
  {
   "cell_type": "code",
   "execution_count": null,
   "id": "2726b523",
   "metadata": {},
   "outputs": [],
   "source": [
    "crops = df['Item'].unique()\n",
    "yield_per_crop = []\n",
    "for crop in crops:\n",
    "    yield_per_crop.append(df[df['Item']==crop]['hg/ha_yield'].sum())"
   ]
  },
  {
   "cell_type": "code",
   "execution_count": null,
   "id": "498066e9",
   "metadata": {},
   "outputs": [],
   "source": [
    "plt.figure(figsize=(15,5))\n",
    "sns.barplot(y= crops, x= yield_per_crop)\n",
    "plt.show()"
   ]
  },
  {
   "cell_type": "code",
   "execution_count": null,
   "id": "5a08d8e8",
   "metadata": {},
   "outputs": [],
   "source": [
    "df.columns"
   ]
  },
  {
   "cell_type": "code",
   "execution_count": null,
   "id": "5e156d18",
   "metadata": {},
   "outputs": [],
   "source": [
    "col = ['Year','average_rain_fall_mm_per_year', 'pesticides_tonnes', 'avg_temp','Area', 'Item','hg/ha_yield' ]"
   ]
  },
  {
   "cell_type": "code",
   "execution_count": null,
   "id": "76b8da43",
   "metadata": {},
   "outputs": [],
   "source": [
    "df = df[col]"
   ]
  },
  {
   "cell_type": "code",
   "execution_count": null,
   "id": "ed1d8b01",
   "metadata": {},
   "outputs": [],
   "source": [
    "df.head()"
   ]
  },
  {
   "cell_type": "code",
   "execution_count": null,
   "id": "66383f8a",
   "metadata": {},
   "outputs": [],
   "source": [
    "x = df.drop('hg/ha_yield',axis=1)\n",
    "y = df['hg/ha_yield']"
   ]
  },
  {
   "cell_type": "code",
   "execution_count": null,
   "id": "d85df67a",
   "metadata": {},
   "outputs": [],
   "source": [
    "x.shape"
   ]
  },
  {
   "cell_type": "code",
   "execution_count": null,
   "id": "618e982b",
   "metadata": {},
   "outputs": [],
   "source": [
    "y.shape"
   ]
  },
  {
   "cell_type": "code",
   "execution_count": null,
   "id": "e62747f8",
   "metadata": {},
   "outputs": [],
   "source": [
    "from sklearn.model_selection import train_test_split\n",
    "x_train, x_test, y_train, y_test = train_test_split(x,y,test_size=0.2,random_state=0,shuffle=True)"
   ]
  },
  {
   "cell_type": "markdown",
   "id": "ec5487f2",
   "metadata": {},
   "source": [
    "## OneHotEncoder\n"
   ]
  },
  {
   "cell_type": "code",
   "execution_count": null,
   "id": "0a5c23fe",
   "metadata": {},
   "outputs": [],
   "source": [
    "df.head()"
   ]
  },
  {
   "cell_type": "code",
   "execution_count": null,
   "id": "6f36b731",
   "metadata": {},
   "outputs": [],
   "source": [
    "from sklearn.preprocessing import OneHotEncoder\n",
    "from sklearn.compose import ColumnTransformer\n",
    "from sklearn.pipeline import Pipeline\n",
    "from sklearn.ensemble import RandomForestRegressor\n",
    "\n",
    "categorical_features = ['Area', 'Item']\n",
    "numeric_features = ['Year', 'average_rain_fall_mm_per_year', 'pesticides_tonnes', 'avg_temp']\n",
    "\n",
    "preprocessor = ColumnTransformer(\n",
    "    transformers=[\n",
    "        ('num', 'passthrough', numeric_features),\n",
    "        ('cat', OneHotEncoder(handle_unknown='ignore'), categorical_features)\n",
    "    ])\n",
    "\n",
    "model = Pipeline(steps=[('preprocessor', preprocessor),\n",
    "                        ('regressor', RandomForestRegressor(random_state=42))])\n"
   ]
  },
  {
   "cell_type": "code",
   "execution_count": null,
   "id": "320240cb",
   "metadata": {},
   "outputs": [],
   "source": [
    "preprocessor"
   ]
  },
  {
   "cell_type": "code",
   "execution_count": null,
   "id": "6bc36a3d",
   "metadata": {},
   "outputs": [],
   "source": [
    "x_train_d = preprocessor.fit_transform(x_train)\n",
    "x_test_d = preprocessor.fit_transform(x_test)"
   ]
  },
  {
   "cell_type": "code",
   "execution_count": null,
   "id": "f33e9ecc",
   "metadata": {},
   "outputs": [],
   "source": [
    "preprocessor.get_feature_names_out(col[:-1])"
   ]
  },
  {
   "cell_type": "markdown",
   "id": "055fdc19",
   "metadata": {},
   "source": [
    "## Model Training\n"
   ]
  },
  {
   "cell_type": "code",
   "execution_count": null,
   "id": "c475057d",
   "metadata": {},
   "outputs": [],
   "source": [
    "from sklearn.linear_model import LinearRegression, Lasso, Ridge\n",
    "from sklearn.neighbors import KNeighborsRegressor\n",
    "from sklearn.tree import DecisionTreeRegressor\n",
    "from sklearn.metrics import mean_absolute_error, r2_score"
   ]
  },
  {
   "cell_type": "code",
   "execution_count": null,
   "id": "abbf22f3",
   "metadata": {},
   "outputs": [],
   "source": [
    "models = {\n",
    "    'Linear Regression' : LinearRegression(),\n",
    "    'Lasso' : Lasso(),\n",
    "    'Ridge' : Ridge(),\n",
    "    'Decision Tree' : DecisionTreeRegressor(),\n",
    "    'KNN' : KNeighborsRegressor(),\n",
    "}\n",
    "\n",
    "for name, md in models.items():\n",
    "    md.fit(x_train_d,y_train)\n",
    "    y_pred = md.predict(x_test_d)\n",
    "    print(f\"{name}:Mean Absolute Error: {mean_absolute_error(y_test,y_pred)} Score: {r2_score(y_test,y_pred)}\")"
   ]
  },
  {
   "cell_type": "markdown",
   "id": "0f41b7bf",
   "metadata": {},
   "source": [
    "## Model Selecting\n"
   ]
  },
  {
   "cell_type": "code",
   "execution_count": null,
   "id": "a37d8ffa",
   "metadata": {},
   "outputs": [],
   "source": [
    "model = DecisionTreeRegressor()\n",
    "model.fit(x_train_d,y_train)\n",
    "model.predict(x_test_d)"
   ]
  },
  {
   "cell_type": "markdown",
   "id": "4f48e28a",
   "metadata": {},
   "source": [
    "## Prediction\n"
   ]
  },
  {
   "cell_type": "code",
   "execution_count": null,
   "id": "eb8323c3",
   "metadata": {},
   "outputs": [],
   "source": [
    "df.columns"
   ]
  },
  {
   "cell_type": "code",
   "execution_count": null,
   "id": "3fcf2864",
   "metadata": {},
   "outputs": [],
   "source": [
    "def prediction(Year, average_rain_fall_mm_per_year, pesticides_tonnes, avg_temp, Area, Item):\n",
    "    features = pd.DataFrame([[Year, average_rain_fall_mm_per_year, pesticides_tonnes, avg_temp, Area, Item]],\n",
    "                            columns=['Year','average_rain_fall_mm_per_year','pesticides_tonnes','avg_temp','Area','Item'])\n",
    "    \n",
    "    transform_features = preprocessor.transform(features)\n",
    "    predicted_yield = model.predict(transform_features).reshape(-1,1)\n",
    "    return predicted_yield[0][0]\n"
   ]
  },
  {
   "cell_type": "code",
   "execution_count": null,
   "id": "94c69b27",
   "metadata": {},
   "outputs": [],
   "source": [
    "df.head(10)"
   ]
  },
  {
   "cell_type": "code",
   "execution_count": null,
   "id": "696eb834",
   "metadata": {},
   "outputs": [],
   "source": [
    "result = prediction(1990, 1485.0, 121.0, 16.37,'Albania','\tSorghum')\n",
    "result"
   ]
  },
  {
   "cell_type": "code",
   "execution_count": null,
   "id": "82d65b33",
   "metadata": {},
   "outputs": [],
   "source": [
    "result = prediction(1991, 1485.0, 121.0, 15.36, \"Albania\", \"Maize\")\t\n",
    "result"
   ]
  },
  {
   "cell_type": "code",
   "execution_count": null,
   "id": "f05db8e8",
   "metadata": {},
   "outputs": [],
   "source": [
    "result = prediction(1990, 1485.0, 121.00, 16.37, \"Albania\", \"Potatoes\")\n",
    "result"
   ]
  },
  {
   "cell_type": "code",
   "execution_count": null,
   "id": "ca6bd1eb",
   "metadata": {},
   "outputs": [],
   "source": [
    "#82865\n",
    "result = prediction(1999, 1010.0, 40.0, 24.37, \"Angola\", \"Sweet potatoes\")\n",
    "result"
   ]
  },
  {
   "cell_type": "code",
   "execution_count": null,
   "id": "c629d79b",
   "metadata": {},
   "outputs": [],
   "source": [
    "df.tail(6)"
   ]
  },
  {
   "cell_type": "code",
   "execution_count": null,
   "id": "cada5711",
   "metadata": {},
   "outputs": [],
   "source": [
    "res = prediction(2013,657,2550,19.76,\"Zimbabwe\",\"Sorghum\")\n",
    "res"
   ]
  },
  {
   "cell_type": "code",
   "execution_count": null,
   "id": "492828d4",
   "metadata": {},
   "outputs": [],
   "source": [
    "res = prediction(2013, 657.0, 2550.07, 19.76, \"Zimbabwe\", \"Potatoes\")\n",
    "res"
   ]
  },
  {
   "cell_type": "markdown",
   "id": "c828e117",
   "metadata": {},
   "source": [
    "## Save the Model"
   ]
  },
  {
   "cell_type": "code",
   "execution_count": null,
   "id": "2e103a7e",
   "metadata": {},
   "outputs": [],
   "source": [
    "import pickle\n",
    "pickle.dump(model, open(\"model.pkl\",\"wb\"))\n",
    "pickle.dump(preprocessor, open(\"preprocessor.pkl\",\"wb\"))"
   ]
  }
 ],
 "metadata": {
  "kernelspec": {
   "display_name": "Python 3",
   "language": "python",
   "name": "python3"
  },
  "language_info": {
   "codemirror_mode": {
    "name": "ipython",
    "version": 3
   },
   "file_extension": ".py",
   "mimetype": "text/x-python",
   "name": "python",
   "nbconvert_exporter": "python",
   "pygments_lexer": "ipython3",
   "version": "3.11.3"
  }
 },
 "nbformat": 4,
 "nbformat_minor": 5
}
